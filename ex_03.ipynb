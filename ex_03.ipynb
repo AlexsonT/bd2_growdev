{
 "cells": [
  {
   "cell_type": "code",
   "execution_count": 65,
   "metadata": {},
   "outputs": [],
   "source": [
    "import pymongo"
   ]
  },
  {
   "cell_type": "code",
   "execution_count": 66,
   "metadata": {},
   "outputs": [],
   "source": [
    "conexao = pymongo.MongoClient('mongodb://localhost:27017/')"
   ]
  },
  {
   "cell_type": "code",
   "execution_count": 67,
   "metadata": {},
   "outputs": [
    {
     "name": "stdout",
     "output_type": "stream",
     "text": [
      "['produtos']\n"
     ]
    }
   ],
   "source": [
    "# QUESTÃO 01\n",
    "\n",
    "# Definindo o banco e a coleção a ser criada.\n",
    "db = conexao[\"empresa\"]\n",
    "\n",
    "colecao_produtos = db[\"produtos\"]\n",
    "\n",
    "colecoes = db.list_collection_names()\n",
    "\n",
    "print(colecoes)"
   ]
  },
  {
   "cell_type": "code",
   "execution_count": 79,
   "metadata": {},
   "outputs": [],
   "source": [
    "#Inserindo documentos na coleção.\n",
    "produtos = [\n",
    "    {\"nome\": 'pão',\"preço\": 8.99, \"marca\":'Da Casa'},\n",
    "    {\"nome\": 'arroz',\"preço\": 4.29, \"marca\":'Branquinho'},\n",
    "    {\"nome\": 'açucar',\"preço\": 3.69, \"marca\":'Bem Doce'},\n",
    "    {\"nome\": 'feijão',\"preço\": 4.75, \"marca\":'Grão Puro'},\n",
    "    {\"nome\": 'pipoca',\"preço\": 4.78, \"marca\":'Estrala Mais'},\n",
    "    {\"nome\": 'molho',\"preço\": 1.79, \"marca\":'Vermelinho'},\n",
    "    {\"nome\": 'carne',\"preço\": 34.50, \"marca\":'Boi Gordo'},\n",
    "    {\"nome\": 'sal',\"preço\": 1.57, \"marca\":'Hipertensão'},\n",
    "    {\"nome\": 'massa',\"preço\": 2.98, \"marca\":'Itália Nostra'},\n",
    "    {\"nome\": 'chocolate',\"preço\": 5.00, \"marca\":'Quase Cacau'}\n",
    "]\n",
    "\n",
    "x = colecao_produtos.insert_many(produtos) \n",
    "\n",
    "colecoes = db.list_collection_names()\n"
   ]
  },
  {
   "cell_type": "code",
   "execution_count": 84,
   "metadata": {},
   "outputs": [
    {
     "name": "stdout",
     "output_type": "stream",
     "text": [
      "['produtos']\n"
     ]
    }
   ],
   "source": [
    "#Consultando coleções.\n",
    "colecoes = db.list_collection_names()\n",
    "\n",
    "print(colecoes)"
   ]
  },
  {
   "cell_type": "code",
   "execution_count": 85,
   "metadata": {},
   "outputs": [
    {
     "name": "stdout",
     "output_type": "stream",
     "text": [
      "['admin', 'config', 'empresa', 'local', 'test']\n"
     ]
    }
   ],
   "source": [
    "#Verificando os bancos existente no Mongo.\n",
    "databases = conexao.list_database_names()\n",
    "\n",
    "print(databases)"
   ]
  },
  {
   "cell_type": "code",
   "execution_count": 86,
   "metadata": {},
   "outputs": [
    {
     "name": "stdout",
     "output_type": "stream",
     "text": [
      "{'_id': ObjectId('6350d3847d93492169601218'),\n",
      " 'marca': 'Boi Gordo',\n",
      " 'nome': 'carne',\n",
      " 'preço': 34.5}\n"
     ]
    }
   ],
   "source": [
    "#Consultand um dado na coleção para verificar a inserção de dados.\n",
    "x = colecao_produtos.find_one(\n",
    "    {\n",
    "        'nome': 'carne'\n",
    "    }\n",
    ")\n",
    "\n",
    "pprint.pprint(x)\n"
   ]
  },
  {
   "cell_type": "code",
   "execution_count": 87,
   "metadata": {},
   "outputs": [],
   "source": [
    "# QUESTÃO 02\n",
    "# Inserindo novas coleções com o campo 'Alimenticio'.\n",
    "produtos = [\n",
    "    {\"nome\": 'filtro para cafe',\"preço\": 3.48, \"marca\":'Filtra Tudo', \"alimenticio\": False},\n",
    "    {\"nome\": 'batata congelada',\"preço\": 1.98, \"marca\":'Tipo MC', \"alimenticio\": True},\n",
    "    {\"nome\": 'farinha de trigo',\"preço\": 4.38, \"marca\":'Faz Pão', \"alimenticio\": True},\n",
    "   ]\n",
    "\n",
    "x = colecao_produtos.insert_many(produtos) "
   ]
  },
  {
   "cell_type": "code",
   "execution_count": 88,
   "metadata": {},
   "outputs": [
    {
     "name": "stdout",
     "output_type": "stream",
     "text": [
      "{'_id': ObjectId('6350d3847d93492169601212'), 'nome': 'pão', 'preço': 8.99, 'marca': 'Da Casa'}\n",
      "{'_id': ObjectId('6350d3847d93492169601218'), 'nome': 'carne', 'preço': 34.5, 'marca': 'Boi Gordo'}\n"
     ]
    }
   ],
   "source": [
    "# QUESTÃO 03\n",
    "# Consultando itens com preços acima de 5.45. \n",
    "x = colecao_produtos.find(\n",
    "    {\n",
    "    'preço': {'$gt': 5.45}\n",
    "    }\n",
    ")\n",
    "\n",
    "for doc in x:\n",
    "    print(doc)"
   ]
  },
  {
   "cell_type": "code",
   "execution_count": 89,
   "metadata": {},
   "outputs": [],
   "source": [
    "# QUESTÃO 04\n",
    "# Deletando o item arroz da coleção.\n",
    "db = conexao[\"empresa\"]\n",
    "\n",
    "colecao_produtos = db[\"produtos\"]\n",
    "\n",
    "x = colecao_produtos.delete_one(\n",
    "    {\n",
    "        'nome':'arroz'\n",
    "    }\n",
    ")"
   ]
  },
  {
   "cell_type": "code",
   "execution_count": 91,
   "metadata": {},
   "outputs": [
    {
     "name": "stdout",
     "output_type": "stream",
     "text": [
      "{'_id': ObjectId('6350d3847d93492169601212'), 'nome': 'pão', 'preço': 8.99, 'marca': 'Da Casa'}\n",
      "{'_id': ObjectId('6350d3847d93492169601214'), 'nome': 'açucar', 'preço': 3.69, 'marca': 'Bem Doce'}\n",
      "{'_id': ObjectId('6350d3847d93492169601215'), 'nome': 'feijão', 'preço': 4.75, 'marca': 'Grão Puro'}\n",
      "{'_id': ObjectId('6350d3847d93492169601216'), 'nome': 'pipoca', 'preço': 4.78, 'marca': 'Estrala Mais'}\n",
      "{'_id': ObjectId('6350d3847d93492169601217'), 'nome': 'molho', 'preço': 1.79, 'marca': 'Vermelinho'}\n",
      "{'_id': ObjectId('6350d3847d93492169601218'), 'nome': 'carne', 'preço': 34.5, 'marca': 'Boi Gordo'}\n",
      "{'_id': ObjectId('6350d3847d93492169601219'), 'nome': 'sal', 'preço': 1.57, 'marca': 'Hipertensão'}\n",
      "{'_id': ObjectId('6350d3847d9349216960121a'), 'nome': 'massa', 'preço': 2.98, 'marca': 'Itália Nostra'}\n",
      "{'_id': ObjectId('6350d3847d9349216960121b'), 'nome': 'chocolate', 'preço': 5.0, 'marca': 'Quase Cacau'}\n",
      "{'_id': ObjectId('6350d46c7d9349216960121c'), 'nome': 'filtro para cafe', 'preço': 3.48, 'marca': 'Filtra Tudo', 'alimenticio': False}\n",
      "{'_id': ObjectId('6350d46c7d9349216960121d'), 'nome': 'batata congelada', 'preço': 1.98, 'marca': 'Tipo MC', 'alimenticio': True}\n",
      "{'_id': ObjectId('6350d46c7d9349216960121e'), 'nome': 'farinha de trigo', 'preço': 4.38, 'marca': 'Faz Pão', 'alimenticio': True}\n"
     ]
    }
   ],
   "source": [
    "#Verificando se o item arroz foi excluído.\n",
    "x = colecao_produtos.find(\n",
    "    {}\n",
    "    \n",
    ")\n",
    "\n",
    "for doc in x:\n",
    "    print(doc)"
   ]
  },
  {
   "cell_type": "code",
   "execution_count": 94,
   "metadata": {},
   "outputs": [
    {
     "name": "stdout",
     "output_type": "stream",
     "text": [
      "{'_id': ObjectId('6350d3847d93492169601212'), 'nome': 'pão', 'preço': 8.99, 'marca': 'Da Casa'}\n",
      "{'_id': ObjectId('6350d3847d93492169601214'), 'nome': 'açucar', 'preço': 3.69, 'marca': 'Bem Doce'}\n",
      "{'_id': ObjectId('6350d3847d93492169601215'), 'nome': 'feijão', 'preço': 4.75, 'marca': 'Grão Puro'}\n",
      "{'_id': ObjectId('6350d3847d93492169601216'), 'nome': 'pipoca', 'preço': 4.78, 'marca': 'Estrala Mais'}\n",
      "{'_id': ObjectId('6350d3847d93492169601217'), 'nome': 'molho', 'preço': 1.79, 'marca': 'Vermelinho'}\n",
      "{'_id': ObjectId('6350d3847d93492169601218'), 'nome': 'carne', 'preço': 34.5, 'marca': 'Boi Gordo'}\n",
      "{'_id': ObjectId('6350d3847d93492169601219'), 'nome': 'sal', 'preço': 1.57, 'marca': 'Hipertensão'}\n",
      "{'_id': ObjectId('6350d3847d9349216960121a'), 'nome': 'massa', 'preço': 2.98, 'marca': 'Itália Nostra'}\n",
      "{'_id': ObjectId('6350d3847d9349216960121b'), 'nome': 'chocolate', 'preço': 5.0, 'marca': 'Quase Cacau'}\n"
     ]
    }
   ],
   "source": [
    "#QUESTÃO 5:\n",
    "# Retornando todos os itens que não possuem o campo Alimenticio.\n",
    "x = colecao_produtos.find(\n",
    "    {\n",
    "    'alimenticio': {'$exists': False}\n",
    "    }\n",
    ")\n",
    "\n",
    "for doc in x:\n",
    "    print(doc)"
   ]
  }
 ],
 "metadata": {
  "kernelspec": {
   "display_name": "Python 3.10.5 64-bit",
   "language": "python",
   "name": "python3"
  },
  "language_info": {
   "codemirror_mode": {
    "name": "ipython",
    "version": 3
   },
   "file_extension": ".py",
   "mimetype": "text/x-python",
   "name": "python",
   "nbconvert_exporter": "python",
   "pygments_lexer": "ipython3",
   "version": "3.10.5"
  },
  "orig_nbformat": 4,
  "vscode": {
   "interpreter": {
    "hash": "09ab9d09769e58172906761f459bc163a0e89466ed4f026e5ecbc7e4a778c55c"
   }
  }
 },
 "nbformat": 4,
 "nbformat_minor": 2
}
